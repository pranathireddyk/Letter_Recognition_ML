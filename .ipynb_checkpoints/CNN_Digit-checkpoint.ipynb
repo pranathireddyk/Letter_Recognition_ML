{
 "cells": [
  {
   "cell_type": "code",
   "execution_count": 1,
   "metadata": {
    "executionInfo": {
     "elapsed": 3795,
     "status": "ok",
     "timestamp": 1607416743572,
     "user": {
      "displayName": "avinash satya",
      "photoUrl": "",
      "userId": "14279093514833902461"
     },
     "user_tz": -330
    },
    "id": "1PDKKhr9zIEn"
   },
   "outputs": [],
   "source": [
    "from keras.datasets import mnist\n",
    "from keras.utils import to_categorical\n",
    "from keras.models import Sequential\n",
    "from keras.layers import Dense,Flatten,Conv2D,MaxPool2D\n",
    "import numpy as np\n",
    "import pandas as pd\n",
    "from matplotlib import pyplot as plt"
   ]
  },
  {
   "cell_type": "code",
   "execution_count": 2,
   "metadata": {
    "executionInfo": {
     "elapsed": 3784,
     "status": "ok",
     "timestamp": 1607416743574,
     "user": {
      "displayName": "avinash satya",
      "photoUrl": "",
      "userId": "14279093514833902461"
     },
     "user_tz": -330
    },
    "id": "i_iCm7XFzQHk"
   },
   "outputs": [],
   "source": [
    "def Dataset_mnist():\n",
    "  (X_train, Y_train), (X_test,Y_test) = mnist.load_data()\n",
    "  X_train = X_train.reshape((60000,28,28,1))\n",
    "  X_test = X_test.reshape((10000,28,28,1))\n",
    "  Y_train = to_categorical(Y_train)\n",
    "  Y_test = to_categorical(Y_test)\n",
    "  return (X_train, Y_train), (X_test,Y_test)"
   ]
  },
  {
   "cell_type": "code",
   "execution_count": null,
   "metadata": {
    "colab": {
     "base_uri": "https://localhost:8080/"
    },
    "executionInfo": {
     "elapsed": 358272,
     "status": "ok",
     "timestamp": 1607417098097,
     "user": {
      "displayName": "avinash satya",
      "photoUrl": "",
      "userId": "14279093514833902461"
     },
     "user_tz": -330
    },
    "id": "tndmuF_DzlSl",
    "outputId": "ee07b31f-1d88-416a-db37-edf9fc7ffdef"
   },
   "outputs": [
    {
     "name": "stdout",
     "output_type": "stream",
     "text": [
      "Epoch 1/3\n",
      "1207/1875 [==================>...........] - ETA: 33s - loss: 1.9833 - accuracy: 0.9228"
     ]
    }
   ],
   "source": [
    "M = Sequential()\n",
    "M.add(Conv2D(20,kernel_size=3,activation=\"relu\",input_shape=(28,28,1)))\n",
    "M.add(MaxPool2D(pool_size=(2,2),strides=(1,1)))\n",
    "M.add(Conv2D(40,kernel_size=3,activation=\"relu\"))\n",
    "M.add(MaxPool2D(pool_size=(2,2),strides=(1,1)))\n",
    "M.add(Flatten())\n",
    "M.add(Dense(50,activation=\"relu\"))\n",
    "M.add(Dense(10,activation=\"softmax\"))\n",
    "# print(M.summary())\n",
    "(X_train, Y_train), (X_test,Y_test) = Dataset_mnist()\n",
    "M.compile(optimizer=\"adam\",loss=\"categorical_crossentropy\",metrics=[\"accuracy\"])\n",
    "M.fit(X_train,Y_train,validation_data=(X_test, Y_test),epochs=3)"
   ]
  },
  {
   "cell_type": "code",
   "execution_count": null,
   "metadata": {
    "colab": {
     "base_uri": "https://localhost:8080/"
    },
    "executionInfo": {
     "elapsed": 358264,
     "status": "ok",
     "timestamp": 1607417098100,
     "user": {
      "displayName": "avinash satya",
      "photoUrl": "",
      "userId": "14279093514833902461"
     },
     "user_tz": -330
    },
    "id": "0r2AiOjHokDX",
    "outputId": "80af376f-3bf8-4032-bbc8-24908f839d88"
   },
   "outputs": [],
   "source": [
    "(X_train, Y_train), (X_test,Y_test) = Dataset_mnist()\n",
    "Y_train.shape"
   ]
  },
  {
   "cell_type": "code",
   "execution_count": null,
   "metadata": {
    "colab": {
     "base_uri": "https://localhost:8080/"
    },
    "executionInfo": {
     "elapsed": 358243,
     "status": "ok",
     "timestamp": 1607417098101,
     "user": {
      "displayName": "avinash satya",
      "photoUrl": "",
      "userId": "14279093514833902461"
     },
     "user_tz": -330
    },
    "id": "z17_SkGL7kGu",
    "outputId": "8ac652b5-cca4-419d-c7e9-4b0c388078dc"
   },
   "outputs": [],
   "source": [
    "print(\"No of layers : \"+str(len(M.layers)))\n",
    "for i in M.layers:\n",
    "  print(i.get_weights())"
   ]
  },
  {
   "cell_type": "code",
   "execution_count": null,
   "metadata": {
    "executionInfo": {
     "elapsed": 363419,
     "status": "ok",
     "timestamp": 1607417103299,
     "user": {
      "displayName": "avinash satya",
      "photoUrl": "",
      "userId": "14279093514833902461"
     },
     "user_tz": -330
    },
    "id": "QRFH3zmO9iY-"
   },
   "outputs": [],
   "source": [
    "Y = M.predict(X_test)"
   ]
  },
  {
   "cell_type": "code",
   "execution_count": null,
   "metadata": {
    "colab": {
     "base_uri": "https://localhost:8080/",
     "height": 0
    },
    "executionInfo": {
     "elapsed": 363408,
     "status": "ok",
     "timestamp": 1607417103301,
     "user": {
      "displayName": "avinash satya",
      "photoUrl": "",
      "userId": "14279093514833902461"
     },
     "user_tz": -330
    },
    "id": "ruhNH1CcA13a",
    "outputId": "5888c1d6-6d8e-4704-ec29-06bfdcfa519c"
   },
   "outputs": [],
   "source": [
    "i=3\n",
    "plt.imshow(X_test[i].reshape(28,28),cmap='gray_r')\n",
    "print(\"True label :\"+str(np.argmax(Y_test[i])))\n",
    "print(\"Predicted label :\"+str(np.argmax(Y[i])))"
   ]
  },
  {
   "cell_type": "code",
   "execution_count": null,
   "metadata": {
    "colab": {
     "base_uri": "https://localhost:8080/",
     "height": 298
    },
    "executionInfo": {
     "elapsed": 364022,
     "status": "ok",
     "timestamp": 1607417103953,
     "user": {
      "displayName": "avinash satya",
      "photoUrl": "",
      "userId": "14279093514833902461"
     },
     "user_tz": -330
    },
    "id": "paBnJg5RA2jF",
    "outputId": "16289ec6-1056-41fc-a5fc-d20e453e4df7"
   },
   "outputs": [],
   "source": [
    "i=20\n",
    "plt.imshow(X_test[i].reshape(28,28),cmap='gray_r')\n",
    "print(\"True label :\"+str(np.argmax(Y_test[i])))\n",
    "print(\"Predicted label :\"+str(np.argmax(Y[i])))"
   ]
  },
  {
   "cell_type": "code",
   "execution_count": null,
   "metadata": {
    "colab": {
     "base_uri": "https://localhost:8080/",
     "height": 298
    },
    "executionInfo": {
     "elapsed": 364007,
     "status": "ok",
     "timestamp": 1607417103955,
     "user": {
      "displayName": "avinash satya",
      "photoUrl": "",
      "userId": "14279093514833902461"
     },
     "user_tz": -330
    },
    "id": "rSlnyLsDA3vi",
    "outputId": "055cfc99-baa1-42d5-9ad9-92332f697366"
   },
   "outputs": [],
   "source": [
    "i=100\n",
    "plt.imshow(X_test[i].reshape(28,28),cmap='gray_r')\n",
    "print(\"True label :\"+str(np.argmax(Y_test[i])))\n",
    "print(\"Predicted label :\"+str(np.argmax(Y[i])))"
   ]
  },
  {
   "cell_type": "code",
   "execution_count": null,
   "metadata": {
    "colab": {
     "base_uri": "https://localhost:8080/",
     "height": 298
    },
    "executionInfo": {
     "elapsed": 363966,
     "status": "ok",
     "timestamp": 1607417103961,
     "user": {
      "displayName": "avinash satya",
      "photoUrl": "",
      "userId": "14279093514833902461"
     },
     "user_tz": -330
    },
    "id": "dIkxZP5UA5GG",
    "outputId": "48ecf70a-ec12-4609-e099-40b054519f71"
   },
   "outputs": [],
   "source": [
    "i=500\n",
    "plt.imshow(X_test[i].reshape(28,28),cmap='gray_r')\n",
    "print(\"True label :\"+str(np.argmax(Y_test[i])))\n",
    "print(\"Predicted label :\"+str(np.argmax(Y[i])))"
   ]
  },
  {
   "cell_type": "code",
   "execution_count": null,
   "metadata": {
    "colab": {
     "base_uri": "https://localhost:8080/"
    },
    "executionInfo": {
     "elapsed": 363964,
     "status": "ok",
     "timestamp": 1607417103984,
     "user": {
      "displayName": "avinash satya",
      "photoUrl": "",
      "userId": "14279093514833902461"
     },
     "user_tz": -330
    },
    "id": "ESx8fQFID9RO",
    "outputId": "f3fb5e05-9fce-4ff1-8ff8-44b6133aa434"
   },
   "outputs": [],
   "source": [
    "print(\"Total correctly predicted : \"+str(np.sum((np.argmax(Y,axis=1)==np.argmax(Y_test,axis=1))))+\" out of \"+str(Y_test.shape[0]))"
   ]
  },
  {
   "cell_type": "code",
   "execution_count": null,
   "metadata": {},
   "outputs": [],
   "source": []
  }
 ],
 "metadata": {
  "colab": {
   "authorship_tag": "ABX9TyNrEeUOWN7GtCjh/4PKem2a",
   "collapsed_sections": [],
   "name": "CNN_Digit.ipynb",
   "provenance": []
  },
  "kernelspec": {
   "display_name": "Python 3",
   "language": "python",
   "name": "python3"
  },
  "language_info": {
   "codemirror_mode": {
    "name": "ipython",
    "version": 3
   },
   "file_extension": ".py",
   "mimetype": "text/x-python",
   "name": "python",
   "nbconvert_exporter": "python",
   "pygments_lexer": "ipython3",
   "version": "3.8.3"
  }
 },
 "nbformat": 4,
 "nbformat_minor": 1
}
