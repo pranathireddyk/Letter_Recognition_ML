{
 "cells": [
  {
   "cell_type": "code",
   "execution_count": 1,
   "metadata": {
    "executionInfo": {
     "elapsed": 3795,
     "status": "ok",
     "timestamp": 1607416743572,
     "user": {
      "displayName": "avinash satya",
      "photoUrl": "",
      "userId": "14279093514833902461"
     },
     "user_tz": -330
    },
    "id": "1PDKKhr9zIEn"
   },
   "outputs": [],
   "source": [
    "from keras.datasets import mnist\n",
    "from keras.utils import to_categorical\n",
    "from keras.models import Sequential\n",
    "from keras.layers import Dense,Flatten,Conv2D,MaxPool2D\n",
    "import numpy as np\n",
    "import pandas as pd\n",
    "from matplotlib import pyplot as plt"
   ]
  },
  {
   "cell_type": "code",
   "execution_count": 2,
   "metadata": {
    "executionInfo": {
     "elapsed": 3784,
     "status": "ok",
     "timestamp": 1607416743574,
     "user": {
      "displayName": "avinash satya",
      "photoUrl": "",
      "userId": "14279093514833902461"
     },
     "user_tz": -330
    },
    "id": "i_iCm7XFzQHk"
   },
   "outputs": [],
   "source": [
    "def Dataset_mnist():\n",
    "  (X_train, Y_train), (X_test,Y_test) = mnist.load_data()\n",
    "  X_train = X_train.reshape((60000,28,28,1))\n",
    "  X_test = X_test.reshape((10000,28,28,1))\n",
    "  Y_train = to_categorical(Y_train)\n",
    "  Y_test = to_categorical(Y_test)\n",
    "  return (X_train, Y_train), (X_test,Y_test)"
   ]
  },
  {
   "cell_type": "code",
   "execution_count": 12,
   "metadata": {
    "colab": {
     "base_uri": "https://localhost:8080/"
    },
    "executionInfo": {
     "elapsed": 358272,
     "status": "ok",
     "timestamp": 1607417098097,
     "user": {
      "displayName": "avinash satya",
      "photoUrl": "",
      "userId": "14279093514833902461"
     },
     "user_tz": -330
    },
    "id": "tndmuF_DzlSl",
    "outputId": "ee07b31f-1d88-416a-db37-edf9fc7ffdef"
   },
   "outputs": [
    {
     "name": "stdout",
     "output_type": "stream",
     "text": [
      "Model: \"sequential_1\"\n",
      "_________________________________________________________________\n",
      "Layer (type)                 Output Shape              Param #   \n",
      "=================================================================\n",
      "conv2d_2 (Conv2D)            (None, 26, 26, 20)        200       \n",
      "_________________________________________________________________\n",
      "max_pooling2d_2 (MaxPooling2 (None, 25, 25, 20)        0         \n",
      "_________________________________________________________________\n",
      "conv2d_3 (Conv2D)            (None, 23, 23, 40)        7240      \n",
      "_________________________________________________________________\n",
      "max_pooling2d_3 (MaxPooling2 (None, 22, 22, 40)        0         \n",
      "_________________________________________________________________\n",
      "flatten_1 (Flatten)          (None, 19360)             0         \n",
      "_________________________________________________________________\n",
      "dense_2 (Dense)              (None, 50)                968050    \n",
      "_________________________________________________________________\n",
      "dense_3 (Dense)              (None, 10)                510       \n",
      "=================================================================\n",
      "Total params: 976,000\n",
      "Trainable params: 976,000\n",
      "Non-trainable params: 0\n",
      "_________________________________________________________________\n",
      "None\n",
      "Epoch 1/3\n",
      "1875/1875 [==============================] - 193s 103ms/step - loss: 1.0122 - accuracy: 0.9337 - val_loss: 0.1184 - val_accuracy: 0.9688\n",
      "Epoch 2/3\n",
      "1875/1875 [==============================] - 125s 67ms/step - loss: 0.1017 - accuracy: 0.9725 - val_loss: 0.1338 - val_accuracy: 0.9610\n",
      "Epoch 3/3\n",
      "1875/1875 [==============================] - 96s 51ms/step - loss: 0.0706 - accuracy: 0.9800 - val_loss: 0.0890 - val_accuracy: 0.9774\n"
     ]
    },
    {
     "data": {
      "text/plain": [
       "<tensorflow.python.keras.callbacks.History at 0x25bdb38da00>"
      ]
     },
     "execution_count": 12,
     "metadata": {},
     "output_type": "execute_result"
    }
   ],
   "source": [
    "M = Sequential()\n",
    "M.add(Conv2D(20,kernel_size=3,activation=\"relu\",input_shape=(28,28,1)))\n",
    "M.add(MaxPool2D(pool_size=(2,2),strides=(1,1)))\n",
    "M.add(Conv2D(40,kernel_size=3,activation=\"relu\"))\n",
    "M.add(MaxPool2D(pool_size=(2,2),strides=(1,1)))\n",
    "M.add(Flatten())\n",
    "M.add(Dense(50,activation=\"relu\"))\n",
    "M.add(Dense(10,activation=\"softmax\"))\n",
    "print(M.summary())\n",
    "(X_train, Y_train), (X_test,Y_test) = Dataset_mnist()\n",
    "M.compile(optimizer=\"adam\",loss=\"categorical_crossentropy\",metrics=[\"accuracy\"])\n",
    "M.fit(X_train,Y_train,validation_data=(X_test, Y_test),epochs=3)"
   ]
  },
  {
   "cell_type": "code",
   "execution_count": 4,
   "metadata": {
    "colab": {
     "base_uri": "https://localhost:8080/"
    },
    "executionInfo": {
     "elapsed": 358264,
     "status": "ok",
     "timestamp": 1607417098100,
     "user": {
      "displayName": "avinash satya",
      "photoUrl": "",
      "userId": "14279093514833902461"
     },
     "user_tz": -330
    },
    "id": "0r2AiOjHokDX",
    "outputId": "80af376f-3bf8-4032-bbc8-24908f839d88"
   },
   "outputs": [
    {
     "data": {
      "text/plain": [
       "(60000, 10)"
      ]
     },
     "execution_count": 4,
     "metadata": {},
     "output_type": "execute_result"
    }
   ],
   "source": [
    "(X_train, Y_train), (X_test,Y_test) = Dataset_mnist()\n",
    "Y_train.shape"
   ]
  },
  {
   "cell_type": "code",
   "execution_count": 5,
   "metadata": {
    "colab": {
     "base_uri": "https://localhost:8080/"
    },
    "executionInfo": {
     "elapsed": 358243,
     "status": "ok",
     "timestamp": 1607417098101,
     "user": {
      "displayName": "avinash satya",
      "photoUrl": "",
      "userId": "14279093514833902461"
     },
     "user_tz": -330
    },
    "id": "z17_SkGL7kGu",
    "outputId": "8ac652b5-cca4-419d-c7e9-4b0c388078dc"
   },
   "outputs": [
    {
     "name": "stdout",
     "output_type": "stream",
     "text": [
      "No of layers : 7\n",
      "[array([[[[ 0.09536662, -0.04088011,  0.1194447 ,  0.03784413,\n",
      "          -0.09045469,  0.03563437, -0.04408485, -0.057542  ,\n",
      "          -0.02489514,  0.03102988,  0.07894893,  0.0798279 ,\n",
      "          -0.09669096, -0.16140269, -0.01531817,  0.05716059,\n",
      "          -0.1401138 , -0.1523126 , -0.08194458,  0.00433112]],\n",
      "\n",
      "        [[ 0.02046355, -0.08449691, -0.07912081, -0.07459089,\n",
      "           0.14411038,  0.1269318 , -0.09859663, -0.04000632,\n",
      "          -0.18571298,  0.01709305, -0.13576652,  0.01808959,\n",
      "           0.21679473, -0.02829589, -0.12472238,  0.08272999,\n",
      "           0.06727859, -0.10711201, -0.01695691,  0.00038401]],\n",
      "\n",
      "        [[ 0.02441546,  0.02823082,  0.05595535, -0.00526123,\n",
      "          -0.01885506,  0.10629409, -0.22694735, -0.09984431,\n",
      "           0.04768162, -0.17241609, -0.0882438 , -0.06745101,\n",
      "          -0.14727171, -0.08214775,  0.08996939, -0.014388  ,\n",
      "          -0.1750367 ,  0.04614382,  0.09749033, -0.1785364 ]]],\n",
      "\n",
      "\n",
      "       [[[-0.1472331 ,  0.15144601, -0.10190313,  0.0805921 ,\n",
      "           0.00218116, -0.00290738, -0.11353949,  0.12509118,\n",
      "           0.09964486, -0.03873816,  0.01882679, -0.1757821 ,\n",
      "          -0.16369231,  0.04103422,  0.01955719,  0.10355473,\n",
      "          -0.09419299,  0.14865956,  0.16153097,  0.07280636]],\n",
      "\n",
      "        [[-0.05471057,  0.12468174, -0.12105278, -0.01522295,\n",
      "          -0.17300355, -0.1011356 , -0.18371001,  0.06882311,\n",
      "           0.00226154, -0.05609519,  0.1507801 , -0.03345203,\n",
      "          -0.00685056,  0.09644256, -0.0396775 ,  0.06808093,\n",
      "           0.11858823,  0.1073385 , -0.00508098,  0.0411968 ]],\n",
      "\n",
      "        [[-0.20828408,  0.11910579,  0.09023848,  0.05918723,\n",
      "           0.0904296 , -0.03523923, -0.07529961,  0.10522767,\n",
      "           0.03452479,  0.1389939 , -0.00199705, -0.11494529,\n",
      "          -0.09777919, -0.04947957,  0.14133056,  0.03621142,\n",
      "          -0.14257707, -0.05019262, -0.12190711,  0.09778626]]],\n",
      "\n",
      "\n",
      "       [[[-0.01140889, -0.07916714, -0.0333252 , -0.1742005 ,\n",
      "          -0.18477626, -0.10648527,  0.09698506, -0.04920946,\n",
      "           0.03276629,  0.09041901,  0.05520182, -0.06404407,\n",
      "          -0.14601316,  0.08434471, -0.00823846,  0.015289  ,\n",
      "           0.0781254 , -0.08297272, -0.04641527, -0.02808358]],\n",
      "\n",
      "        [[-0.08613866, -0.08686586,  0.12384802,  0.02424449,\n",
      "          -0.16280134, -0.14307584, -0.12156187, -0.08094147,\n",
      "          -0.10734881, -0.05614476, -0.06138471,  0.12242842,\n",
      "           0.00132105, -0.1538368 ,  0.03630537,  0.03675931,\n",
      "           0.08280174,  0.08287262,  0.10056707,  0.08708198]],\n",
      "\n",
      "        [[ 0.07268032, -0.1827    ,  0.03593696,  0.08508001,\n",
      "           0.08526345, -0.05936661, -0.05798966, -0.02002287,\n",
      "          -0.05039683, -0.00220608,  0.06620619,  0.04080369,\n",
      "           0.03591905,  0.04606652, -0.13413295,  0.05291674,\n",
      "           0.0076568 ,  0.03303719,  0.07272373, -0.04927142]]]],\n",
      "      dtype=float32), array([ 0.04704764, -0.08699701, -0.09014414, -0.1599146 , -0.06587672,\n",
      "       -0.01580657, -0.06208479, -0.02604651,  0.10988598,  0.13305336,\n",
      "        0.01916594, -0.07632479,  0.08451165,  0.30386743,  0.12521976,\n",
      "       -0.114949  , -0.10353068, -0.03072101,  0.057745  , -0.0549478 ],\n",
      "      dtype=float32)]\n",
      "[]\n",
      "[array([[[[-1.19959839e-01,  6.00737408e-02, -9.86888409e-02, ...,\n",
      "           8.80090520e-03, -5.32981940e-02,  5.55088632e-02],\n",
      "         [ 6.53134137e-02, -1.08927272e-01,  2.58445051e-02, ...,\n",
      "          -6.13113903e-02, -8.38103122e-04, -4.61283810e-02],\n",
      "         [-1.05298683e-01, -1.15355819e-01,  4.65995036e-02, ...,\n",
      "          -1.06485896e-01,  4.09530625e-02, -1.00477688e-01],\n",
      "         ...,\n",
      "         [-1.51443090e-02, -9.18388963e-02, -1.51801214e-01, ...,\n",
      "           6.14914075e-02,  3.80109027e-02, -8.32243487e-02],\n",
      "         [-1.24347083e-01, -7.72941411e-02, -6.08958397e-03, ...,\n",
      "           9.30078253e-02, -1.07270129e-01,  4.16656658e-02],\n",
      "         [ 7.42460191e-02,  4.24195379e-02, -1.03403173e-01, ...,\n",
      "           5.11361733e-02,  7.48377517e-02,  6.44760281e-02]],\n",
      "\n",
      "        [[-1.07816510e-01,  2.75016911e-02, -9.17722192e-03, ...,\n",
      "          -9.06097740e-02,  7.99377337e-02,  4.27213907e-02],\n",
      "         [ 1.35938367e-02,  1.51404329e-02,  1.03701666e-01, ...,\n",
      "           5.01797907e-02, -5.27815409e-02,  2.34781001e-02],\n",
      "         [ 6.69030920e-02,  7.54341809e-03, -5.90215772e-02, ...,\n",
      "           2.30113920e-02,  7.06735030e-02, -8.99813175e-02],\n",
      "         ...,\n",
      "         [-3.72486524e-02, -7.35244080e-02,  6.49744421e-02, ...,\n",
      "           2.60964856e-02, -3.51822078e-02,  6.46209568e-02],\n",
      "         [ 3.90202403e-02,  5.73495999e-02, -6.19749315e-02, ...,\n",
      "          -1.37047347e-04,  1.80341452e-02,  2.29753330e-02],\n",
      "         [ 7.88431093e-02, -3.59400846e-02, -1.00787599e-02, ...,\n",
      "          -5.49774393e-02,  1.72296949e-02,  3.55440788e-02]],\n",
      "\n",
      "        [[ 6.40967954e-03,  7.40122497e-02,  5.12726679e-02, ...,\n",
      "           5.83187900e-02, -2.93577444e-02,  6.12058900e-02],\n",
      "         [ 2.11291984e-02, -5.81815951e-02, -3.25752720e-02, ...,\n",
      "           6.34020120e-02,  6.99459091e-02, -3.55126965e-03],\n",
      "         [ 6.74597025e-02, -4.03763168e-02,  8.03744700e-03, ...,\n",
      "           8.12958553e-02, -1.14678942e-01,  7.78885931e-02],\n",
      "         ...,\n",
      "         [ 4.20665964e-02, -5.87122701e-02, -5.88050261e-02, ...,\n",
      "           8.76850635e-02, -9.59106162e-02, -1.10956259e-01],\n",
      "         [ 7.58669823e-02, -8.97495225e-02,  4.80550677e-02, ...,\n",
      "          -4.90952618e-02, -9.21723172e-02, -2.05858257e-02],\n",
      "         [-1.06751457e-01, -2.16938108e-02, -6.82416186e-02, ...,\n",
      "           2.44106669e-02, -8.24672915e-03, -2.79156156e-02]]],\n",
      "\n",
      "\n",
      "       [[[ 2.27038725e-03,  3.06441579e-02,  3.23123038e-02, ...,\n",
      "          -1.28815606e-01, -1.18263245e-01,  3.67261916e-02],\n",
      "         [ 3.14985402e-02, -2.76330002e-02, -4.35872935e-03, ...,\n",
      "          -5.55868223e-02, -6.99338987e-02,  1.71893407e-02],\n",
      "         [-1.44891199e-02,  3.17996182e-02,  2.62320526e-02, ...,\n",
      "          -5.16503863e-02, -7.17444271e-02,  5.19344173e-02],\n",
      "         ...,\n",
      "         [-4.25370336e-02, -1.97959282e-02,  1.55022368e-01, ...,\n",
      "          -2.18882840e-02, -6.13302141e-02, -4.10652086e-02],\n",
      "         [ 1.46035780e-03, -7.05290586e-03, -8.56978670e-02, ...,\n",
      "           5.53707704e-02, -3.99011336e-02,  8.19223598e-02],\n",
      "         [ 7.38417208e-02, -4.47363779e-02, -3.97814848e-02, ...,\n",
      "          -9.58887860e-02, -5.86849898e-02, -4.81756451e-03]],\n",
      "\n",
      "        [[-7.14917406e-02, -3.18614990e-02,  9.04611424e-02, ...,\n",
      "           1.92424599e-02,  7.53498748e-02, -6.65286630e-02],\n",
      "         [-5.38702346e-02, -4.16906774e-02,  2.71450318e-02, ...,\n",
      "           9.00224671e-02,  9.40369722e-03, -5.71323968e-02],\n",
      "         [ 1.81778427e-02, -5.24846613e-02, -9.92593989e-02, ...,\n",
      "          -7.57183582e-02, -5.43008372e-03, -4.55386005e-02],\n",
      "         ...,\n",
      "         [ 7.73142725e-02,  1.61307007e-02,  7.87518695e-02, ...,\n",
      "           7.33970627e-02,  9.41004902e-02,  7.64553249e-02],\n",
      "         [-9.69946906e-02, -1.13912769e-01,  8.01222622e-02, ...,\n",
      "           5.98310679e-03, -3.12309954e-02, -1.13058865e-01],\n",
      "         [-1.03941448e-02,  5.55086695e-02, -1.65938437e-02, ...,\n",
      "           7.50058964e-02, -9.69860405e-02,  2.78087799e-02]],\n",
      "\n",
      "        [[-9.86060053e-02,  1.35144517e-02, -2.68553831e-02, ...,\n",
      "          -9.11685750e-02,  1.42474789e-02,  7.08392188e-02],\n",
      "         [-3.88441049e-02, -8.41036737e-02, -2.08843760e-02, ...,\n",
      "          -1.28242418e-01, -1.57594010e-02, -8.70774090e-02],\n",
      "         [-5.51375486e-02, -5.53161204e-02, -1.39545143e-01, ...,\n",
      "           3.67221795e-02, -3.36044468e-02, -7.61911049e-02],\n",
      "         ...,\n",
      "         [ 5.12800254e-02, -2.47053965e-03, -8.01201444e-03, ...,\n",
      "          -1.01166619e-02,  6.05559833e-02,  8.26185718e-02],\n",
      "         [-1.17585935e-01, -8.96665528e-02, -9.43280458e-02, ...,\n",
      "           7.24594370e-02, -9.54139233e-02, -5.92750870e-02],\n",
      "         [-4.77575772e-02,  6.79728836e-02,  2.23634057e-02, ...,\n",
      "          -4.67753448e-02,  8.86972398e-02,  3.42041552e-02]]],\n",
      "\n",
      "\n",
      "       [[[ 5.44749610e-02, -8.00563768e-02, -1.06138282e-01, ...,\n",
      "          -1.37889847e-01, -9.37468931e-02, -8.61629322e-02],\n",
      "         [-4.29793820e-02, -6.20344989e-02, -6.04411773e-02, ...,\n",
      "          -3.59067991e-02,  8.30447767e-03, -5.21798208e-02],\n",
      "         [-7.62021169e-02,  6.55365782e-03, -3.09713706e-02, ...,\n",
      "           5.37190810e-02, -6.20995797e-02, -7.59560987e-02],\n",
      "         ...,\n",
      "         [-6.64781407e-02, -8.69276747e-02, -1.01460144e-01, ...,\n",
      "           7.47389197e-02, -7.07694963e-02, -1.05548836e-01],\n",
      "         [-9.97055098e-02,  4.12107818e-02,  6.59401864e-02, ...,\n",
      "           1.23991175e-02, -3.15567888e-02,  4.82205898e-02],\n",
      "         [ 5.44810668e-02, -8.45505297e-03,  7.89597780e-02, ...,\n",
      "          -2.72717010e-02,  8.23566988e-02,  6.71169013e-02]],\n",
      "\n",
      "        [[-5.31281233e-02, -1.12434607e-02, -7.54379854e-02, ...,\n",
      "          -9.73238330e-03,  9.65558216e-02,  6.30087480e-02],\n",
      "         [ 6.37743920e-02, -7.28293182e-03, -8.91399607e-02, ...,\n",
      "          -2.54163425e-02,  7.77213499e-02,  2.24603955e-02],\n",
      "         [ 7.45512322e-02, -6.82358369e-02,  7.35076591e-02, ...,\n",
      "          -7.71329626e-02, -8.08328167e-02, -7.90140107e-02],\n",
      "         ...,\n",
      "         [-1.08161569e-01,  5.68995103e-02, -4.45187800e-02, ...,\n",
      "           6.42291531e-02, -1.54451272e-02, -6.25902489e-02],\n",
      "         [-5.94095932e-03,  5.52069359e-02,  2.91882027e-02, ...,\n",
      "          -9.97816920e-02,  3.89858186e-02, -5.77180535e-02],\n",
      "         [ 9.34418198e-03,  9.64940786e-02,  3.86606925e-03, ...,\n",
      "          -1.21036898e-02,  4.69472678e-03,  5.34859747e-02]],\n",
      "\n",
      "        [[-1.22462483e-02, -8.49770755e-02, -3.00008431e-03, ...,\n",
      "          -6.27240390e-02, -8.89656171e-02, -3.60275898e-03],\n",
      "         [-1.02657244e-01, -8.08098465e-02, -4.86572720e-02, ...,\n",
      "          -1.48885056e-01, -8.15401748e-02, -3.73171456e-02],\n",
      "         [ 3.32199782e-02, -3.16133052e-02,  3.90574820e-02, ...,\n",
      "           6.75200671e-02, -1.00315064e-01, -7.76791424e-02],\n",
      "         ...,\n",
      "         [-5.72166145e-02, -1.07401736e-01, -3.17192562e-02, ...,\n",
      "           7.07916692e-02,  7.00856894e-02, -1.01327822e-01],\n",
      "         [-2.89983656e-02, -1.33531094e-01,  8.29811096e-02, ...,\n",
      "           4.24412489e-02,  3.51745449e-02,  8.00291672e-02],\n",
      "         [ 5.09489477e-02,  7.11807758e-02,  2.99488194e-02, ...,\n",
      "           4.41498198e-02, -4.03869152e-03, -3.55768874e-02]]]],\n",
      "      dtype=float32), array([-0.05698219,  0.0055678 , -0.2524105 , -0.03275999, -0.0629829 ,\n",
      "        0.04065697, -0.05472429, -0.01021672, -0.16725037, -0.04147342,\n",
      "        0.03810934, -0.22748908, -0.03481235,  0.00036872, -0.02321284,\n",
      "       -0.0564704 , -0.08468045, -0.05918362, -0.02986074, -0.04688963,\n",
      "        0.00951666, -0.02176867, -0.04646067, -0.03206936, -0.04256975,\n",
      "       -0.05853213, -0.06530225, -0.05751001, -0.03882658, -0.086781  ,\n",
      "       -0.01544562, -0.05037821, -0.08862387, -0.01484775, -0.05256638,\n",
      "       -0.05745669, -0.02948116, -0.0043744 , -0.05180975, -0.04817134],\n",
      "      dtype=float32)]\n",
      "[]\n",
      "[]\n",
      "[array([[-0.01305117, -0.00214131,  0.01303392, ...,  0.01275892,\n",
      "         0.00745633, -0.00668066],\n",
      "       [ 0.00945545,  0.00475953,  0.00647578, ..., -0.01476473,\n",
      "        -0.01188031,  0.01136033],\n",
      "       [ 0.00192766, -0.04911375, -0.00131504, ...,  0.02747715,\n",
      "        -0.01335735, -0.01320016],\n",
      "       ...,\n",
      "       [ 0.01165267, -0.02104071,  0.01238552, ..., -0.01018412,\n",
      "        -0.01062288,  0.01585975],\n",
      "       [ 0.0027178 ,  0.01191501,  0.00187868, ...,  0.00013282,\n",
      "        -0.01280244, -0.00930451],\n",
      "       [-0.00147292, -0.00038134, -0.0102952 , ..., -0.05156352,\n",
      "        -0.01495382,  0.006899  ]], dtype=float32), array([-0.00600543, -0.01518092, -0.00600506, -0.02904756, -0.07785489,\n",
      "       -0.00642103, -0.00600529, -0.00741235, -0.01694247, -0.08084608,\n",
      "        0.01598823,  0.0203564 , -0.00600541, -0.00578657, -0.00600536,\n",
      "       -0.00600539, -0.00600528, -0.00598065, -0.00438267, -0.00911188,\n",
      "       -0.00515903, -0.02621144, -0.00600536, -0.04670414,  0.0089888 ,\n",
      "       -0.00365369,  0.00304663, -0.00600518, -0.00600542, -0.00600537,\n",
      "       -0.02471675, -0.0008517 ,  0.00983114, -0.0070905 , -0.00613547,\n",
      "        0.01797407,  0.02289851, -0.00600538, -0.00532523, -0.01469949,\n",
      "       -0.03799064, -0.00467943, -0.00488358, -0.04224397,  0.01009496,\n",
      "       -0.00522708, -0.03972612,  0.01893272, -0.00647458, -0.00600789],\n",
      "      dtype=float32)]\n",
      "[array([[ 0.08259313, -0.03783684,  0.28426406,  0.25248873, -0.24760921,\n",
      "        -0.04776111, -0.07613947, -0.09521335, -0.29535496, -0.00323426],\n",
      "       [-0.1401083 ,  0.11751097, -0.29502383, -0.26351374, -0.12145066,\n",
      "         0.1587526 , -0.24455796,  0.17250751, -0.05562534, -0.11234102],\n",
      "       [ 0.1305033 , -0.10906164,  0.22774702, -0.01916212,  0.30961737,\n",
      "         0.09157464, -0.10621837,  0.31230137, -0.17837873, -0.21694204],\n",
      "       [-0.1764544 , -0.1250869 , -0.13739449,  0.05988121,  0.27090222,\n",
      "        -0.15920086,  0.2684356 ,  0.1738315 , -0.19989875, -0.02436425],\n",
      "       [ 0.24199605,  0.06327197, -0.25445765,  0.24936908,  0.02235126,\n",
      "        -0.09043628, -0.02728359,  0.2290677 ,  0.11254039, -0.28803754],\n",
      "       [ 0.2992946 , -0.2469459 , -0.24468185, -0.2703162 , -0.24811845,\n",
      "         0.19984564, -0.15016104,  0.09203094, -0.00554657,  0.21994855],\n",
      "       [-0.08019178,  0.1880512 ,  0.2987686 , -0.0779933 ,  0.00270078,\n",
      "         0.09647527, -0.02658899, -0.13854809,  0.09204426, -0.13670966],\n",
      "       [-0.29706928, -0.14127721, -0.16183922, -0.04535757,  0.04434307,\n",
      "         0.05660522, -0.08992055,  0.05606861,  0.11818523, -0.20256594],\n",
      "       [ 0.10987239,  0.26325685, -0.27919993,  0.11625268,  0.2447407 ,\n",
      "         0.25494155,  0.06325533, -0.0434356 , -0.19474189, -0.03312305],\n",
      "       [ 0.0813134 , -0.16786313,  0.01249058,  0.08632008, -0.18971452,\n",
      "         0.17189454,  0.22785008,  0.09862582, -0.12378231,  0.00288339],\n",
      "       [-0.01584547, -0.05007905, -0.04883324,  0.10625533,  0.28679106,\n",
      "         0.08852047,  0.02489679,  0.13141386,  0.09275205,  0.24630857],\n",
      "       [ 0.22752339, -0.13763025,  0.18936256, -0.20592827, -0.09091762,\n",
      "        -0.02900706, -0.19873804, -0.2645787 ,  0.11464686, -0.11943772],\n",
      "       [-0.03874338, -0.03723362,  0.28587332,  0.21354055, -0.07113764,\n",
      "        -0.16727437, -0.227838  , -0.11937997,  0.2223618 , -0.14092742],\n",
      "       [ 0.1096534 ,  0.23097152, -0.0021253 ,  0.08525973,  0.12220079,\n",
      "         0.2661848 , -0.29638684,  0.13008304, -0.1660417 ,  0.30529398],\n",
      "       [ 0.2099765 , -0.26074508,  0.06467558, -0.01979446, -0.01860925,\n",
      "        -0.2914647 ,  0.2672101 , -0.30528602,  0.08217745, -0.22276212],\n",
      "       [-0.10802278, -0.06586485,  0.14031301,  0.02675739,  0.02021497,\n",
      "        -0.01169512,  0.04481483, -0.18292877, -0.14204584, -0.28300482],\n",
      "       [-0.19679506, -0.00666487,  0.26205507,  0.2645742 , -0.13448602,\n",
      "        -0.03825794,  0.03740573, -0.0903185 ,  0.2210902 ,  0.16571164],\n",
      "       [ 0.10897619, -0.302266  ,  0.1832387 , -0.00534507, -0.16542053,\n",
      "         0.2771802 ,  0.04887158,  0.16115837,  0.24204157,  0.23866826],\n",
      "       [-0.24858713, -0.2536318 ,  0.31683016, -0.10225693, -0.03972364,\n",
      "         0.11500638, -0.10082065, -0.26069078,  0.17167053,  0.00839746],\n",
      "       [-0.20463875, -0.252333  , -0.0038723 ,  0.12146441, -0.07405861,\n",
      "        -0.18873775, -0.20451763,  0.24604258,  0.03467615,  0.20688063],\n",
      "       [-0.09509829,  0.24538937,  0.26515958,  0.06451178,  0.19229098,\n",
      "         0.18430749,  0.13713664,  0.10371911,  0.2657614 ,  0.2191473 ],\n",
      "       [-0.17381021, -0.07304533, -0.19754054, -0.15127023,  0.12081409,\n",
      "         0.18038945, -0.10583983,  0.2811777 ,  0.30707607,  0.03960335],\n",
      "       [ 0.13729575, -0.21953322,  0.29628065, -0.25090715,  0.08106589,\n",
      "        -0.1431047 , -0.20582215, -0.14321914,  0.11549368,  0.3203158 ],\n",
      "       [-0.16558456, -0.25528356,  0.00697468,  0.21888994,  0.21382536,\n",
      "         0.10958566,  0.29201844, -0.06294111,  0.10560743,  0.25568163],\n",
      "       [-0.11049364,  0.17242132, -0.2844276 , -0.23573413, -0.18631811,\n",
      "         0.18777567,  0.21940123, -0.25747833,  0.0053769 , -0.18505779],\n",
      "       [ 0.05773707,  0.29330966, -0.14508145,  0.14983243,  0.02840602,\n",
      "         0.2989594 , -0.3056787 , -0.2941652 , -0.2658779 , -0.09593428],\n",
      "       [ 0.11542865,  0.3176376 , -0.15103668,  0.1586985 ,  0.0909002 ,\n",
      "        -0.28985706, -0.30103448,  0.23402148, -0.10737685, -0.20776604],\n",
      "       [ 0.0052526 , -0.1451617 ,  0.30105093, -0.08402703,  0.06043258,\n",
      "        -0.3045548 , -0.2939163 , -0.28020492, -0.22190732, -0.0147242 ],\n",
      "       [ 0.26660678, -0.29723427,  0.2954465 , -0.1325609 ,  0.11892696,\n",
      "         0.22683126,  0.18065333, -0.03021231, -0.25310272, -0.01581928],\n",
      "       [-0.14236069,  0.02644659,  0.21571891,  0.06497676,  0.08085854,\n",
      "         0.07939001,  0.10521182, -0.11797142, -0.05451827, -0.25213352],\n",
      "       [-0.05265903, -0.22038335,  0.29593188, -0.1810546 ,  0.0512892 ,\n",
      "         0.23950441,  0.03818914,  0.2443787 ,  0.19145454,  0.22421703],\n",
      "       [-0.01856841, -0.02825994, -0.17259265,  0.06542429, -0.08027938,\n",
      "         0.026568  ,  0.22390601, -0.13774763,  0.1434166 ,  0.1856627 ],\n",
      "       [ 0.13656619, -0.01212285,  0.08226106,  0.11522949,  0.20972368,\n",
      "         0.18210615, -0.05076168,  0.2049119 ,  0.30874735, -0.139429  ],\n",
      "       [ 0.045777  , -0.0729294 , -0.02783925,  0.11312941, -0.17094865,\n",
      "        -0.07524907,  0.1755916 , -0.07908946, -0.20170702,  0.2503611 ],\n",
      "       [ 0.22327618, -0.16697693, -0.1805068 ,  0.05208738, -0.28015947,\n",
      "         0.27238762, -0.12015999,  0.1577196 , -0.15862942, -0.2958372 ],\n",
      "       [-0.25667793,  0.1288787 ,  0.18834345,  0.05155198, -0.06836345,\n",
      "        -0.11596301, -0.08423118,  0.10135087, -0.07297561, -0.13280636],\n",
      "       [ 0.02678833, -0.04154489, -0.25050014, -0.18220803, -0.17438805,\n",
      "        -0.24822333, -0.19988671, -0.03871108,  0.00119931,  0.16228768],\n",
      "       [-0.05324426, -0.24843411,  0.15390582,  0.08555406,  0.16141078,\n",
      "        -0.06091219, -0.29146996, -0.0329586 , -0.14195107, -0.12590535],\n",
      "       [-0.13183668,  0.29364023, -0.09525105,  0.05756109,  0.25248536,\n",
      "         0.04717785, -0.29110065, -0.25699273, -0.10003118, -0.0811338 ],\n",
      "       [ 0.11801049, -0.20516907,  0.13723724,  0.14668737, -0.14191188,\n",
      "        -0.2853302 ,  0.19186147,  0.22876985, -0.13432959,  0.10146086],\n",
      "       [ 0.21025835, -0.19177195, -0.2122752 , -0.09055878,  0.03951147,\n",
      "         0.15167136, -0.18548028, -0.11054967, -0.17081124, -0.02721098],\n",
      "       [ 0.10550339, -0.05518384, -0.06294924,  0.29936367, -0.12158187,\n",
      "         0.1637439 ,  0.09107929, -0.19288799,  0.21883763,  0.21358608],\n",
      "       [-0.14636436, -0.18589404, -0.0838813 ,  0.04871668, -0.19296584,\n",
      "         0.19307256, -0.20958975,  0.2958192 ,  0.14672321,  0.0110137 ],\n",
      "       [-0.12232799,  0.16620097,  0.12874493,  0.05553643,  0.11594775,\n",
      "         0.27967495,  0.08589599,  0.20176509, -0.17023863,  0.10801835],\n",
      "       [ 0.19930069,  0.02096849, -0.26870024, -0.03213277, -0.10750259,\n",
      "        -0.27901623,  0.0023852 ,  0.18950397, -0.23743317,  0.02995725],\n",
      "       [-0.09684554,  0.26679024,  0.15829438,  0.281177  , -0.14085817,\n",
      "         0.26073292,  0.2952815 , -0.02526251, -0.07471173,  0.26211753],\n",
      "       [ 0.10027715,  0.30808356,  0.10540865, -0.12706494, -0.10600483,\n",
      "        -0.00703988,  0.20861156, -0.2058588 ,  0.08588769, -0.304384  ],\n",
      "       [-0.05849208,  0.02087416, -0.23305736,  0.11476157,  0.12762299,\n",
      "        -0.16021843, -0.09581025, -0.19128929, -0.09812946, -0.18934865],\n",
      "       [-0.23096028, -0.12634768, -0.21924272,  0.0795956 , -0.27016512,\n",
      "         0.11037185, -0.00841495,  0.05918227,  0.14412345,  0.24673088],\n",
      "       [-0.01666373,  0.2713838 ,  0.2502307 ,  0.02243003, -0.11368681,\n",
      "         0.22577494,  0.24616277,  0.25678858, -0.04085263,  0.25030515]],\n",
      "      dtype=float32), array([-0.08551473,  0.12089807,  0.07718812, -0.04216734,  0.10913768,\n",
      "       -0.07140176, -0.02804595, -0.12086393,  0.06106193,  0.06198261],\n",
      "      dtype=float32)]\n"
     ]
    }
   ],
   "source": [
    "print(\"No of layers : \"+str(len(M.layers)))\n",
    "for i in M.layers:\n",
    "  print(i.get_weights())"
   ]
  },
  {
   "cell_type": "code",
   "execution_count": 6,
   "metadata": {
    "executionInfo": {
     "elapsed": 363419,
     "status": "ok",
     "timestamp": 1607417103299,
     "user": {
      "displayName": "avinash satya",
      "photoUrl": "",
      "userId": "14279093514833902461"
     },
     "user_tz": -330
    },
    "id": "QRFH3zmO9iY-"
   },
   "outputs": [],
   "source": [
    "Y = M.predict(X_test)"
   ]
  },
  {
   "cell_type": "code",
   "execution_count": 7,
   "metadata": {
    "colab": {
     "base_uri": "https://localhost:8080/",
     "height": 0
    },
    "executionInfo": {
     "elapsed": 363408,
     "status": "ok",
     "timestamp": 1607417103301,
     "user": {
      "displayName": "avinash satya",
      "photoUrl": "",
      "userId": "14279093514833902461"
     },
     "user_tz": -330
    },
    "id": "ruhNH1CcA13a",
    "outputId": "5888c1d6-6d8e-4704-ec29-06bfdcfa519c"
   },
   "outputs": [
    {
     "name": "stdout",
     "output_type": "stream",
     "text": [
      "True label :0\n",
      "Predicted label :0\n"
     ]
    },
    {
     "data": {
      "image/png": "[encoded data removed]",
      "text/plain": [
       "<Figure size 432x288 with 1 Axes>"
      ]
     },
     "metadata": {
      "needs_background": "light"
     },
     "output_type": "display_data"
    }
   ],
   "source": [
    "i=3\n",
    "plt.imshow(X_test[i].reshape(28,28),cmap='gray_r')\n",
    "print(\"True label :\"+str(np.argmax(Y_test[i])))\n",
    "print(\"Predicted label :\"+str(np.argmax(Y[i])))"
   ]
  },
  {
   "cell_type": "code",
   "execution_count": 8,
   "metadata": {
    "colab": {
     "base_uri": "https://localhost:8080/",
     "height": 298
    },
    "executionInfo": {
     "elapsed": 364022,
     "status": "ok",
     "timestamp": 1607417103953,
     "user": {
      "displayName": "avinash satya",
      "photoUrl": "",
      "userId": "14279093514833902461"
     },
     "user_tz": -330
    },
    "id": "paBnJg5RA2jF",
    "outputId": "16289ec6-1056-41fc-a5fc-d20e453e4df7"
   },
   "outputs": [
    {
     "name": "stdout",
     "output_type": "stream",
     "text": [
      "True label :9\n",
      "Predicted label :9\n"
     ]
    },
    {
     "data": {
      "image/png": "[encoded data removed]",
      "text/plain": [
       "<Figure size 432x288 with 1 Axes>"
      ]
     },
     "metadata": {
      "needs_background": "light"
     },
     "output_type": "display_data"
    }
   ],
   "source": [
    "i=20\n",
    "plt.imshow(X_test[i].reshape(28,28),cmap='gray_r')\n",
    "print(\"True label :\"+str(np.argmax(Y_test[i])))\n",
    "print(\"Predicted label :\"+str(np.argmax(Y[i])))"
   ]
  },
  {
   "cell_type": "code",
   "execution_count": 9,
   "metadata": {
    "colab": {
     "base_uri": "https://localhost:8080/",
     "height": 298
    },
    "executionInfo": {
     "elapsed": 364007,
     "status": "ok",
     "timestamp": 1607417103955,
     "user": {
      "displayName": "avinash satya",
      "photoUrl": "",
      "userId": "14279093514833902461"
     },
     "user_tz": -330
    },
    "id": "rSlnyLsDA3vi",
    "outputId": "055cfc99-baa1-42d5-9ad9-92332f697366"
   },
   "outputs": [
    {
     "name": "stdout",
     "output_type": "stream",
     "text": [
      "True label :6\n",
      "Predicted label :6\n"
     ]
    },
    {
     "data": {
      "image/png": "[encoded data removed]",
      "text/plain": [
       "<Figure size 432x288 with 1 Axes>"
      ]
     },
     "metadata": {
      "needs_background": "light"
     },
     "output_type": "display_data"
    }
   ],
   "source": [
    "i=100\n",
    "plt.imshow(X_test[i].reshape(28,28),cmap='gray_r')\n",
    "print(\"True label :\"+str(np.argmax(Y_test[i])))\n",
    "print(\"Predicted label :\"+str(np.argmax(Y[i])))"
   ]
  },
  {
   "cell_type": "code",
   "execution_count": 10,
   "metadata": {
    "colab": {
     "base_uri": "https://localhost:8080/",
     "height": 298
    },
    "executionInfo": {
     "elapsed": 363966,
     "status": "ok",
     "timestamp": 1607417103961,
     "user": {
      "displayName": "avinash satya",
      "photoUrl": "",
      "userId": "14279093514833902461"
     },
     "user_tz": -330
    },
    "id": "dIkxZP5UA5GG",
    "outputId": "48ecf70a-ec12-4609-e099-40b054519f71"
   },
   "outputs": [
    {
     "name": "stdout",
     "output_type": "stream",
     "text": [
      "True label :3\n",
      "Predicted label :3\n"
     ]
    },
    {
     "data": {
      "image/png": "[encoded data removed]",
      "text/plain": [
       "<Figure size 432x288 with 1 Axes>"
      ]
     },
     "metadata": {
      "needs_background": "light"
     },
     "output_type": "display_data"
    }
   ],
   "source": [
    "i=500\n",
    "plt.imshow(X_test[i].reshape(28,28),cmap='gray_r')\n",
    "print(\"True label :\"+str(np.argmax(Y_test[i])))\n",
    "print(\"Predicted label :\"+str(np.argmax(Y[i])))"
   ]
  },
  {
   "cell_type": "code",
   "execution_count": 11,
   "metadata": {
    "colab": {
     "base_uri": "https://localhost:8080/"
    },
    "executionInfo": {
     "elapsed": 363964,
     "status": "ok",
     "timestamp": 1607417103984,
     "user": {
      "displayName": "avinash satya",
      "photoUrl": "",
      "userId": "14279093514833902461"
     },
     "user_tz": -330
    },
    "id": "ESx8fQFID9RO",
    "outputId": "f3fb5e05-9fce-4ff1-8ff8-44b6133aa434"
   },
   "outputs": [
    {
     "name": "stdout",
     "output_type": "stream",
     "text": [
      "Total correctly predicted : 9717 out of 10000\n"
     ]
    }
   ],
   "source": [
    "print(\"Total correctly predicted : \"+str(np.sum((np.argmax(Y,axis=1)==np.argmax(Y_test,axis=1))))+\" out of \"+str(Y_test.shape[0]))"
   ]
  },
  {
   "cell_type": "code",
   "execution_count": null,
   "metadata": {},
   "outputs": [],
   "source": []
  }
 ],
 "metadata": {
  "colab": {
   "authorship_tag": "ABX9TyNrEeUOWN7GtCjh/4PKem2a",
   "collapsed_sections": [],
   "name": "CNN_Digit.ipynb",
   "provenance": []
  },
  "kernelspec": {
   "display_name": "Python 3",
   "language": "python",
   "name": "python3"
  },
  "language_info": {
   "codemirror_mode": {
    "name": "ipython",
    "version": 3
   },
   "file_extension": ".py",
   "mimetype": "text/x-python",
   "name": "python",
   "nbconvert_exporter": "python",
   "pygments_lexer": "ipython3",
   "version": "3.8.3"
  }
 },
 "nbformat": 4,
 "nbformat_minor": 1
}
